{
 "cells": [
  {
   "cell_type": "code",
   "execution_count": 5,
   "metadata": {},
   "outputs": [
    {
     "name": "stderr",
     "output_type": "stream",
     "text": [
      "[nltk_data] Downloading package punkt to /home/thoyavan/nltk_data...\n",
      "[nltk_data]   Package punkt is already up-to-date!\n",
      "[nltk_data] Downloading package stopwords to\n",
      "[nltk_data]     /home/thoyavan/nltk_data...\n",
      "[nltk_data]   Package stopwords is already up-to-date!\n",
      "[nltk_data] Downloading package wordnet to /home/thoyavan/nltk_data...\n",
      "[nltk_data]   Package wordnet is already up-to-date!\n"
     ]
    }
   ],
   "source": [
    "import json\n",
    "import nltk\n",
    "import pandas as pd\n",
    "from nltk.tokenize import word_tokenize\n",
    "from nltk.corpus import stopwords\n",
    "from nltk.stem import WordNetLemmatizer\n",
    "from collections import Counter\n",
    "\n",
    "# Download required resources\n",
    "nltk.download('punkt')\n",
    "nltk.download('stopwords')\n",
    "nltk.download('wordnet')\n",
    "\n",
    "# File path\n",
    "file_path = \"arxiv-metadata-oai-snapshot.json\"\n",
    "stop_words = set(word.lower() for word in stopwords.words('english'))\n",
    "lemmatizer = WordNetLemmatizer()\n",
    "\n",
    "# Data holders\n",
    "filtered_tokens_all = []\n",
    "list_of_abstract_token_lists = []\n",
    "abstract_count = 0\n",
    "max_abstracts = 10000\n",
    "\n",
    "with open(file_path, \"r\", encoding=\"utf-8\") as file:\n",
    "    for line in file:\n",
    "        if abstract_count >= max_abstracts:\n",
    "            break\n",
    "        try:\n",
    "            json_object = json.loads(line)\n",
    "            if \"abstract\" in json_object and json_object[\"abstract\"].strip():\n",
    "                abstract = json_object[\"abstract\"]\n",
    "\n",
    "                # Tokenize\n",
    "                tokens = word_tokenize(abstract)\n",
    "\n",
    "                # Clean and lemmatize\n",
    "                filtered = [\n",
    "                    lemmatizer.lemmatize(word.lower(), pos='n')\n",
    "                    for word in tokens\n",
    "                    if word.isalpha() and word.lower() not in stop_words\n",
    "                ]\n",
    "\n",
    "                if filtered:\n",
    "                    filtered_tokens_all.extend(filtered)\n",
    "                    list_of_abstract_token_lists.append(filtered)\n",
    "                    abstract_count += 1\n",
    "\n",
    "        except json.JSONDecodeError:\n",
    "            continue\n",
    "\n",
    "# DataFrame with all collected tokens\n",
    "df_filtered = pd.DataFrame({\n",
    "    'filtered_word_tokens': [filtered_tokens_all],\n",
    "    'combined_abstract_cleaned': [\" \".join(filtered_tokens_all)]\n",
    "})"
   ]
  },
  {
   "cell_type": "code",
   "execution_count": null,
   "metadata": {},
   "outputs": [
    {
     "ename": "NameError",
     "evalue": "name 'Counter' is not defined",
     "output_type": "error",
     "traceback": [
      "\u001b[0;31m---------------------------------------------------------------------------\u001b[0m",
      "\u001b[0;31mNameError\u001b[0m                                 Traceback (most recent call last)",
      "Cell \u001b[0;32mIn[1], line 4\u001b[0m\n\u001b[1;32m      1\u001b[0m \u001b[38;5;66;03m# Uses the new file created which contains the cleaned and lemmatized abstracts\u001b[39;00m\n\u001b[1;32m      2\u001b[0m cleaned_file_path \u001b[38;5;241m=\u001b[39m \u001b[38;5;124m\"\u001b[39m\u001b[38;5;124mcleaned_lemmatized_abstracts.txt\u001b[39m\u001b[38;5;124m\"\u001b[39m\n\u001b[0;32m----> 4\u001b[0m word_freq \u001b[38;5;241m=\u001b[39m \u001b[43mCounter\u001b[49m()\n\u001b[1;32m      6\u001b[0m \u001b[38;5;28;01mwith\u001b[39;00m \u001b[38;5;28mopen\u001b[39m(cleaned_file_path, \u001b[38;5;124m\"\u001b[39m\u001b[38;5;124mr\u001b[39m\u001b[38;5;124m\"\u001b[39m, encoding\u001b[38;5;241m=\u001b[39m\u001b[38;5;124m\"\u001b[39m\u001b[38;5;124mutf-8\u001b[39m\u001b[38;5;124m\"\u001b[39m) \u001b[38;5;28;01mas\u001b[39;00m file:\n\u001b[1;32m      7\u001b[0m     \u001b[38;5;28;01mfor\u001b[39;00m line \u001b[38;5;129;01min\u001b[39;00m file:\n",
      "\u001b[0;31mNameError\u001b[0m: name 'Counter' is not defined"
     ]
    }
   ],
   "source": [
    "# Uses the new file created which contains the cleaned and lemmatized abstracts\n",
    "cleaned_file_path = \"cleaned_lemmatized_abstracts.txt\"\n",
    "\n",
    "word_freq = Counter()\n",
    "\n",
    "with open(cleaned_file_path, \"r\", encoding=\"utf-8\") as file:\n",
    "    for line in file:\n",
    "        tokens = line.strip().split()\n",
    "        word_freq.update(tokens)\n",
    "\n",
    "# Shows the most common words\n",
    "print(\"\\nTop 50 most common words:\")\n",
    "for word, count in word_freq.most_common(50):\n",
    "    print(f\"{word}: {count}\")\n",
    "\n",
    "    #h"
   ]
  },
  {
   "cell_type": "code",
   "execution_count": null,
   "metadata": {},
   "outputs": [],
   "source": []
  }
 ],
 "metadata": {
  "kernelspec": {
   "display_name": "Python 3",
   "language": "python",
   "name": "python3"
  },
  "language_info": {
   "codemirror_mode": {
    "name": "ipython",
    "version": 3
   },
   "file_extension": ".py",
   "mimetype": "text/x-python",
   "name": "python",
   "nbconvert_exporter": "python",
   "pygments_lexer": "ipython3",
   "version": "3.10.12"
  }
 },
 "nbformat": 4,
 "nbformat_minor": 2
}
